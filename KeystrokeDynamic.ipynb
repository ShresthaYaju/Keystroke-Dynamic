{
  "nbformat": 4,
  "nbformat_minor": 0,
  "metadata": {
    "colab": {
      "provenance": [],
      "authorship_tag": "ABX9TyNfVN+Vz4el/fBvFICyi6YZ",
      "include_colab_link": true
    },
    "kernelspec": {
      "name": "python3",
      "display_name": "Python 3"
    },
    "language_info": {
      "name": "python"
    }
  },
  "cells": [
    {
      "cell_type": "markdown",
      "metadata": {
        "id": "view-in-github",
        "colab_type": "text"
      },
      "source": [
        "<a href=\"https://colab.research.google.com/github/ShresthaYaju/Keystroke-Dynamic/blob/main/KeystrokeDynamic.ipynb\" target=\"_parent\"><img src=\"https://colab.research.google.com/assets/colab-badge.svg\" alt=\"Open In Colab\"/></a>"
      ]
    },
    {
      "cell_type": "code",
      "execution_count": null,
      "metadata": {
        "colab": {
          "base_uri": "https://localhost:8080/",
          "height": 74
        },
        "id": "yyLHi96lF-Rx",
        "outputId": "3085dea3-6e37-40a4-d35f-a71a82282a93"
      },
      "outputs": [
        {
          "output_type": "display_data",
          "data": {
            "text/plain": [
              "<IPython.core.display.HTML object>"
            ],
            "text/html": [
              "\n",
              "     <input type=\"file\" id=\"files-e02c40ad-bb3b-4c20-bca8-2527e0e9b840\" name=\"files[]\" multiple disabled\n",
              "        style=\"border:none\" />\n",
              "     <output id=\"result-e02c40ad-bb3b-4c20-bca8-2527e0e9b840\">\n",
              "      Upload widget is only available when the cell has been executed in the\n",
              "      current browser session. Please rerun this cell to enable.\n",
              "      </output>\n",
              "      <script>// Copyright 2017 Google LLC\n",
              "//\n",
              "// Licensed under the Apache License, Version 2.0 (the \"License\");\n",
              "// you may not use this file except in compliance with the License.\n",
              "// You may obtain a copy of the License at\n",
              "//\n",
              "//      http://www.apache.org/licenses/LICENSE-2.0\n",
              "//\n",
              "// Unless required by applicable law or agreed to in writing, software\n",
              "// distributed under the License is distributed on an \"AS IS\" BASIS,\n",
              "// WITHOUT WARRANTIES OR CONDITIONS OF ANY KIND, either express or implied.\n",
              "// See the License for the specific language governing permissions and\n",
              "// limitations under the License.\n",
              "\n",
              "/**\n",
              " * @fileoverview Helpers for google.colab Python module.\n",
              " */\n",
              "(function(scope) {\n",
              "function span(text, styleAttributes = {}) {\n",
              "  const element = document.createElement('span');\n",
              "  element.textContent = text;\n",
              "  for (const key of Object.keys(styleAttributes)) {\n",
              "    element.style[key] = styleAttributes[key];\n",
              "  }\n",
              "  return element;\n",
              "}\n",
              "\n",
              "// Max number of bytes which will be uploaded at a time.\n",
              "const MAX_PAYLOAD_SIZE = 100 * 1024;\n",
              "\n",
              "function _uploadFiles(inputId, outputId) {\n",
              "  const steps = uploadFilesStep(inputId, outputId);\n",
              "  const outputElement = document.getElementById(outputId);\n",
              "  // Cache steps on the outputElement to make it available for the next call\n",
              "  // to uploadFilesContinue from Python.\n",
              "  outputElement.steps = steps;\n",
              "\n",
              "  return _uploadFilesContinue(outputId);\n",
              "}\n",
              "\n",
              "// This is roughly an async generator (not supported in the browser yet),\n",
              "// where there are multiple asynchronous steps and the Python side is going\n",
              "// to poll for completion of each step.\n",
              "// This uses a Promise to block the python side on completion of each step,\n",
              "// then passes the result of the previous step as the input to the next step.\n",
              "function _uploadFilesContinue(outputId) {\n",
              "  const outputElement = document.getElementById(outputId);\n",
              "  const steps = outputElement.steps;\n",
              "\n",
              "  const next = steps.next(outputElement.lastPromiseValue);\n",
              "  return Promise.resolve(next.value.promise).then((value) => {\n",
              "    // Cache the last promise value to make it available to the next\n",
              "    // step of the generator.\n",
              "    outputElement.lastPromiseValue = value;\n",
              "    return next.value.response;\n",
              "  });\n",
              "}\n",
              "\n",
              "/**\n",
              " * Generator function which is called between each async step of the upload\n",
              " * process.\n",
              " * @param {string} inputId Element ID of the input file picker element.\n",
              " * @param {string} outputId Element ID of the output display.\n",
              " * @return {!Iterable<!Object>} Iterable of next steps.\n",
              " */\n",
              "function* uploadFilesStep(inputId, outputId) {\n",
              "  const inputElement = document.getElementById(inputId);\n",
              "  inputElement.disabled = false;\n",
              "\n",
              "  const outputElement = document.getElementById(outputId);\n",
              "  outputElement.innerHTML = '';\n",
              "\n",
              "  const pickedPromise = new Promise((resolve) => {\n",
              "    inputElement.addEventListener('change', (e) => {\n",
              "      resolve(e.target.files);\n",
              "    });\n",
              "  });\n",
              "\n",
              "  const cancel = document.createElement('button');\n",
              "  inputElement.parentElement.appendChild(cancel);\n",
              "  cancel.textContent = 'Cancel upload';\n",
              "  const cancelPromise = new Promise((resolve) => {\n",
              "    cancel.onclick = () => {\n",
              "      resolve(null);\n",
              "    };\n",
              "  });\n",
              "\n",
              "  // Wait for the user to pick the files.\n",
              "  const files = yield {\n",
              "    promise: Promise.race([pickedPromise, cancelPromise]),\n",
              "    response: {\n",
              "      action: 'starting',\n",
              "    }\n",
              "  };\n",
              "\n",
              "  cancel.remove();\n",
              "\n",
              "  // Disable the input element since further picks are not allowed.\n",
              "  inputElement.disabled = true;\n",
              "\n",
              "  if (!files) {\n",
              "    return {\n",
              "      response: {\n",
              "        action: 'complete',\n",
              "      }\n",
              "    };\n",
              "  }\n",
              "\n",
              "  for (const file of files) {\n",
              "    const li = document.createElement('li');\n",
              "    li.append(span(file.name, {fontWeight: 'bold'}));\n",
              "    li.append(span(\n",
              "        `(${file.type || 'n/a'}) - ${file.size} bytes, ` +\n",
              "        `last modified: ${\n",
              "            file.lastModifiedDate ? file.lastModifiedDate.toLocaleDateString() :\n",
              "                                    'n/a'} - `));\n",
              "    const percent = span('0% done');\n",
              "    li.appendChild(percent);\n",
              "\n",
              "    outputElement.appendChild(li);\n",
              "\n",
              "    const fileDataPromise = new Promise((resolve) => {\n",
              "      const reader = new FileReader();\n",
              "      reader.onload = (e) => {\n",
              "        resolve(e.target.result);\n",
              "      };\n",
              "      reader.readAsArrayBuffer(file);\n",
              "    });\n",
              "    // Wait for the data to be ready.\n",
              "    let fileData = yield {\n",
              "      promise: fileDataPromise,\n",
              "      response: {\n",
              "        action: 'continue',\n",
              "      }\n",
              "    };\n",
              "\n",
              "    // Use a chunked sending to avoid message size limits. See b/62115660.\n",
              "    let position = 0;\n",
              "    do {\n",
              "      const length = Math.min(fileData.byteLength - position, MAX_PAYLOAD_SIZE);\n",
              "      const chunk = new Uint8Array(fileData, position, length);\n",
              "      position += length;\n",
              "\n",
              "      const base64 = btoa(String.fromCharCode.apply(null, chunk));\n",
              "      yield {\n",
              "        response: {\n",
              "          action: 'append',\n",
              "          file: file.name,\n",
              "          data: base64,\n",
              "        },\n",
              "      };\n",
              "\n",
              "      let percentDone = fileData.byteLength === 0 ?\n",
              "          100 :\n",
              "          Math.round((position / fileData.byteLength) * 100);\n",
              "      percent.textContent = `${percentDone}% done`;\n",
              "\n",
              "    } while (position < fileData.byteLength);\n",
              "  }\n",
              "\n",
              "  // All done.\n",
              "  yield {\n",
              "    response: {\n",
              "      action: 'complete',\n",
              "    }\n",
              "  };\n",
              "}\n",
              "\n",
              "scope.google = scope.google || {};\n",
              "scope.google.colab = scope.google.colab || {};\n",
              "scope.google.colab._files = {\n",
              "  _uploadFiles,\n",
              "  _uploadFilesContinue,\n",
              "};\n",
              "})(self);\n",
              "</script> "
            ]
          },
          "metadata": {}
        },
        {
          "output_type": "stream",
          "name": "stdout",
          "text": [
            "Saving Keystroke dynamic - Sheet1.csv to Keystroke dynamic - Sheet1 (4).csv\n"
          ]
        }
      ],
      "source": [
        "import pandas as pd\n",
        "import io\n",
        "from tensorflow import keras\n",
        "from sklearn.model_selection import train_test_split\n",
        "from sklearn.preprocessing import LabelEncoder\n",
        "from google.colab import files\n",
        "uploaded= files.upload()"
      ]
    },
    {
      "cell_type": "code",
      "source": [
        "FileName=list(uploaded.keys())[0]\n",
        "data = pd.read_csv(io.BytesIO(uploaded[FileName]))\n",
        "\n",
        "y= data['name'].apply(lambda x: 1 if x=='yajuTab' else 0)\n",
        "X= pd.get_dummies(data.drop(['name'], axis=1))\n",
        "\n",
        "\n",
        "X_train, X_test, y_train, y_test= train_test_split(X, y, test_size=0.2, random_state=0)\n",
        "\n",
        "input_shape= [X_train.shape[1]]\n",
        "print(input_shape)"
      ],
      "metadata": {
        "colab": {
          "base_uri": "https://localhost:8080/"
        },
        "id": "u8X84F92GP4g",
        "outputId": "4198e2c9-988f-49b1-82b2-c12a0ba7a8f0"
      },
      "execution_count": null,
      "outputs": [
        {
          "output_type": "stream",
          "name": "stdout",
          "text": [
            "[38]\n"
          ]
        }
      ]
    },
    {
      "cell_type": "code",
      "source": [
        "model = keras.Sequential([\n",
        "    keras.layers.Dense(32, activation='relu', input_shape=input_shape),\n",
        "    keras.layers.Dense(64, activation='relu'),\n",
        "    keras.layers.Dense(1, activation='sigmoid')\n",
        "])\n",
        "\n",
        "# Compile the model\n",
        "model.compile(optimizer='adam',\n",
        "              loss='binary_crossentropy',\n",
        "              metrics=['accuracy'])"
      ],
      "metadata": {
        "id": "5nRpAGoZGdab"
      },
      "execution_count": null,
      "outputs": []
    },
    {
      "cell_type": "code",
      "source": [
        "model.fit(X_train, y_train, epochs=55, batch_size=32, validation_data=(X_test, y_test))"
      ],
      "metadata": {
        "colab": {
          "base_uri": "https://localhost:8080/"
        },
        "id": "hVnXiT8jGfgm",
        "outputId": "5467445d-188d-4c9d-c3f5-d224b80afb37"
      },
      "execution_count": null,
      "outputs": [
        {
          "output_type": "stream",
          "name": "stdout",
          "text": [
            "Epoch 1/55\n",
            "2/2 [==============================] - 0s 102ms/step - loss: 0.3107 - accuracy: 0.8333 - val_loss: 1.3049 - val_accuracy: 0.5000\n",
            "Epoch 2/55\n",
            "2/2 [==============================] - 0s 56ms/step - loss: 0.3408 - accuracy: 0.7778 - val_loss: 1.2494 - val_accuracy: 0.6000\n",
            "Epoch 3/55\n",
            "2/2 [==============================] - 0s 38ms/step - loss: 0.3260 - accuracy: 0.7778 - val_loss: 1.0468 - val_accuracy: 0.6000\n",
            "Epoch 4/55\n",
            "2/2 [==============================] - 0s 45ms/step - loss: 0.2838 - accuracy: 0.8611 - val_loss: 0.8836 - val_accuracy: 0.6000\n",
            "Epoch 5/55\n",
            "2/2 [==============================] - 0s 38ms/step - loss: 0.2736 - accuracy: 0.9444 - val_loss: 0.8251 - val_accuracy: 0.6000\n",
            "Epoch 6/55\n",
            "2/2 [==============================] - 0s 41ms/step - loss: 0.2764 - accuracy: 0.9444 - val_loss: 0.8418 - val_accuracy: 0.6000\n",
            "Epoch 7/55\n",
            "2/2 [==============================] - 0s 44ms/step - loss: 0.2666 - accuracy: 0.9444 - val_loss: 0.8597 - val_accuracy: 0.6000\n",
            "Epoch 8/55\n",
            "2/2 [==============================] - 0s 37ms/step - loss: 0.2475 - accuracy: 0.9444 - val_loss: 0.7975 - val_accuracy: 0.6000\n",
            "Epoch 9/55\n",
            "2/2 [==============================] - 0s 45ms/step - loss: 0.2575 - accuracy: 0.9444 - val_loss: 0.7665 - val_accuracy: 0.6000\n",
            "Epoch 10/55\n",
            "2/2 [==============================] - 0s 57ms/step - loss: 0.2684 - accuracy: 0.9167 - val_loss: 0.7994 - val_accuracy: 0.6000\n",
            "Epoch 11/55\n",
            "2/2 [==============================] - 0s 41ms/step - loss: 0.2420 - accuracy: 0.9444 - val_loss: 0.8858 - val_accuracy: 0.6000\n",
            "Epoch 12/55\n",
            "2/2 [==============================] - 0s 63ms/step - loss: 0.2248 - accuracy: 0.9167 - val_loss: 1.0304 - val_accuracy: 0.6000\n",
            "Epoch 13/55\n",
            "2/2 [==============================] - 0s 55ms/step - loss: 0.2465 - accuracy: 0.8611 - val_loss: 1.0951 - val_accuracy: 0.5000\n",
            "Epoch 14/55\n",
            "2/2 [==============================] - 0s 40ms/step - loss: 0.2570 - accuracy: 0.8611 - val_loss: 0.9253 - val_accuracy: 0.6000\n",
            "Epoch 15/55\n",
            "2/2 [==============================] - 0s 61ms/step - loss: 0.2265 - accuracy: 0.8889 - val_loss: 0.7530 - val_accuracy: 0.6000\n",
            "Epoch 16/55\n",
            "2/2 [==============================] - 0s 58ms/step - loss: 0.2254 - accuracy: 0.9722 - val_loss: 0.7484 - val_accuracy: 0.6000\n",
            "Epoch 17/55\n",
            "2/2 [==============================] - 0s 55ms/step - loss: 0.2113 - accuracy: 0.9722 - val_loss: 0.9081 - val_accuracy: 0.6000\n",
            "Epoch 18/55\n",
            "2/2 [==============================] - 0s 38ms/step - loss: 0.2101 - accuracy: 0.8889 - val_loss: 1.1486 - val_accuracy: 0.5000\n",
            "Epoch 19/55\n",
            "2/2 [==============================] - 0s 44ms/step - loss: 0.2581 - accuracy: 0.8611 - val_loss: 1.2085 - val_accuracy: 0.6000\n",
            "Epoch 20/55\n",
            "2/2 [==============================] - 0s 37ms/step - loss: 0.2664 - accuracy: 0.8611 - val_loss: 1.0973 - val_accuracy: 0.6000\n",
            "Epoch 21/55\n",
            "2/2 [==============================] - 0s 45ms/step - loss: 0.2273 - accuracy: 0.8611 - val_loss: 0.9422 - val_accuracy: 0.6000\n",
            "Epoch 22/55\n",
            "2/2 [==============================] - 0s 38ms/step - loss: 0.1937 - accuracy: 0.8889 - val_loss: 0.7746 - val_accuracy: 0.6000\n",
            "Epoch 23/55\n",
            "2/2 [==============================] - 0s 54ms/step - loss: 0.1888 - accuracy: 1.0000 - val_loss: 0.7082 - val_accuracy: 0.6000\n",
            "Epoch 24/55\n",
            "2/2 [==============================] - 0s 37ms/step - loss: 0.1902 - accuracy: 1.0000 - val_loss: 0.7383 - val_accuracy: 0.6000\n",
            "Epoch 25/55\n",
            "2/2 [==============================] - 0s 43ms/step - loss: 0.1735 - accuracy: 1.0000 - val_loss: 0.8464 - val_accuracy: 0.6000\n",
            "Epoch 26/55\n",
            "2/2 [==============================] - 0s 56ms/step - loss: 0.1738 - accuracy: 0.9167 - val_loss: 1.0217 - val_accuracy: 0.6000\n",
            "Epoch 27/55\n",
            "2/2 [==============================] - 0s 44ms/step - loss: 0.2137 - accuracy: 0.8611 - val_loss: 1.0848 - val_accuracy: 0.6000\n",
            "Epoch 28/55\n",
            "2/2 [==============================] - 0s 58ms/step - loss: 0.2260 - accuracy: 0.8611 - val_loss: 0.8934 - val_accuracy: 0.6000\n",
            "Epoch 29/55\n",
            "2/2 [==============================] - 0s 41ms/step - loss: 0.1771 - accuracy: 0.8889 - val_loss: 0.6727 - val_accuracy: 0.7000\n",
            "Epoch 30/55\n",
            "2/2 [==============================] - 0s 38ms/step - loss: 0.1820 - accuracy: 1.0000 - val_loss: 0.6233 - val_accuracy: 0.8000\n",
            "Epoch 31/55\n",
            "2/2 [==============================] - 0s 49ms/step - loss: 0.2075 - accuracy: 0.9722 - val_loss: 0.7159 - val_accuracy: 0.7000\n",
            "Epoch 32/55\n",
            "2/2 [==============================] - 0s 40ms/step - loss: 0.1579 - accuracy: 1.0000 - val_loss: 1.0472 - val_accuracy: 0.6000\n",
            "Epoch 33/55\n",
            "2/2 [==============================] - 0s 45ms/step - loss: 0.1858 - accuracy: 0.9167 - val_loss: 1.4016 - val_accuracy: 0.5000\n",
            "Epoch 34/55\n",
            "2/2 [==============================] - 0s 40ms/step - loss: 0.2672 - accuracy: 0.8611 - val_loss: 1.4931 - val_accuracy: 0.4000\n",
            "Epoch 35/55\n",
            "2/2 [==============================] - 0s 44ms/step - loss: 0.2898 - accuracy: 0.8611 - val_loss: 1.3016 - val_accuracy: 0.6000\n",
            "Epoch 36/55\n",
            "2/2 [==============================] - 0s 41ms/step - loss: 0.2349 - accuracy: 0.8889 - val_loss: 0.9104 - val_accuracy: 0.5000\n",
            "Epoch 37/55\n",
            "2/2 [==============================] - 0s 64ms/step - loss: 0.1498 - accuracy: 0.9722 - val_loss: 0.6069 - val_accuracy: 0.8000\n",
            "Epoch 38/55\n",
            "2/2 [==============================] - 0s 57ms/step - loss: 0.1939 - accuracy: 0.9444 - val_loss: 0.5515 - val_accuracy: 0.8000\n",
            "Epoch 39/55\n",
            "2/2 [==============================] - 0s 40ms/step - loss: 0.2221 - accuracy: 0.9444 - val_loss: 0.6151 - val_accuracy: 0.8000\n",
            "Epoch 40/55\n",
            "2/2 [==============================] - 0s 43ms/step - loss: 0.1619 - accuracy: 0.9722 - val_loss: 0.7585 - val_accuracy: 0.7000\n",
            "Epoch 41/55\n",
            "2/2 [==============================] - 0s 56ms/step - loss: 0.1507 - accuracy: 0.9444 - val_loss: 0.7790 - val_accuracy: 0.7000\n",
            "Epoch 42/55\n",
            "2/2 [==============================] - 0s 38ms/step - loss: 0.1538 - accuracy: 0.9167 - val_loss: 0.6921 - val_accuracy: 0.7000\n",
            "Epoch 43/55\n",
            "2/2 [==============================] - 0s 59ms/step - loss: 0.1380 - accuracy: 0.9722 - val_loss: 0.5601 - val_accuracy: 0.8000\n",
            "Epoch 44/55\n",
            "2/2 [==============================] - 0s 38ms/step - loss: 0.1539 - accuracy: 1.0000 - val_loss: 0.5241 - val_accuracy: 0.8000\n",
            "Epoch 45/55\n",
            "2/2 [==============================] - 0s 40ms/step - loss: 0.1561 - accuracy: 1.0000 - val_loss: 0.5812 - val_accuracy: 0.8000\n",
            "Epoch 46/55\n",
            "2/2 [==============================] - 0s 56ms/step - loss: 0.1278 - accuracy: 1.0000 - val_loss: 0.7046 - val_accuracy: 0.7000\n",
            "Epoch 47/55\n",
            "2/2 [==============================] - 0s 70ms/step - loss: 0.1252 - accuracy: 1.0000 - val_loss: 0.8777 - val_accuracy: 0.7000\n",
            "Epoch 48/55\n",
            "2/2 [==============================] - 0s 36ms/step - loss: 0.1532 - accuracy: 0.9167 - val_loss: 0.9774 - val_accuracy: 0.6000\n",
            "Epoch 49/55\n",
            "2/2 [==============================] - 0s 53ms/step - loss: 0.1720 - accuracy: 0.9167 - val_loss: 0.8962 - val_accuracy: 0.6000\n",
            "Epoch 50/55\n",
            "2/2 [==============================] - 0s 36ms/step - loss: 0.1545 - accuracy: 0.9167 - val_loss: 0.7361 - val_accuracy: 0.7000\n",
            "Epoch 51/55\n",
            "2/2 [==============================] - 0s 47ms/step - loss: 0.1243 - accuracy: 0.9722 - val_loss: 0.6159 - val_accuracy: 0.7000\n",
            "Epoch 52/55\n",
            "2/2 [==============================] - 0s 38ms/step - loss: 0.1106 - accuracy: 1.0000 - val_loss: 0.5356 - val_accuracy: 0.8000\n",
            "Epoch 53/55\n",
            "2/2 [==============================] - 0s 58ms/step - loss: 0.1138 - accuracy: 1.0000 - val_loss: 0.4945 - val_accuracy: 0.8000\n",
            "Epoch 54/55\n",
            "2/2 [==============================] - 0s 41ms/step - loss: 0.1217 - accuracy: 1.0000 - val_loss: 0.4847 - val_accuracy: 0.8000\n",
            "Epoch 55/55\n",
            "2/2 [==============================] - 0s 57ms/step - loss: 0.1209 - accuracy: 1.0000 - val_loss: 0.5163 - val_accuracy: 0.8000\n"
          ]
        },
        {
          "output_type": "execute_result",
          "data": {
            "text/plain": [
              "<keras.callbacks.History at 0x7f0b8c1e46d0>"
            ]
          },
          "metadata": {},
          "execution_count": 43
        }
      ]
    },
    {
      "cell_type": "code",
      "source": [
        "test_loss, test_acc = model.evaluate(X_test, y_test, verbose=1)\n",
        "print('Test accuracy:', test_acc)"
      ],
      "metadata": {
        "colab": {
          "base_uri": "https://localhost:8080/"
        },
        "id": "IYRW5KkTIr0K",
        "outputId": "f24177db-88e6-4fc4-e006-63d71bc98242"
      },
      "execution_count": null,
      "outputs": [
        {
          "output_type": "stream",
          "name": "stdout",
          "text": [
            "1/1 [==============================] - 0s 45ms/step - loss: 0.5163 - accuracy: 0.8000\n",
            "Test accuracy: 0.800000011920929\n"
          ]
        }
      ]
    },
    {
      "cell_type": "code",
      "source": [
        "predictions = model.predict(X_test)\n",
        "predictions= [0 if val <0.5 else 1 for val in predictions]"
      ],
      "metadata": {
        "colab": {
          "base_uri": "https://localhost:8080/"
        },
        "id": "fwEYnu8CoLoK",
        "outputId": "0d6ee13f-0004-423c-967a-52c101224326"
      },
      "execution_count": null,
      "outputs": [
        {
          "output_type": "stream",
          "name": "stderr",
          "text": [
            "WARNING:tensorflow:5 out of the last 6 calls to <function Model.make_predict_function.<locals>.predict_function at 0x7f0b8e8d4550> triggered tf.function retracing. Tracing is expensive and the excessive number of tracings could be due to (1) creating @tf.function repeatedly in a loop, (2) passing tensors with different shapes, (3) passing Python objects instead of tensors. For (1), please define your @tf.function outside of the loop. For (2), @tf.function has reduce_retracing=True option that can avoid unnecessary retracing. For (3), please refer to https://www.tensorflow.org/guide/function#controlling_retracing and https://www.tensorflow.org/api_docs/python/tf/function for  more details.\n"
          ]
        },
        {
          "output_type": "stream",
          "name": "stdout",
          "text": [
            "1/1 [==============================] - 0s 75ms/step\n"
          ]
        }
      ]
    },
    {
      "cell_type": "code",
      "source": [
        "print(predictions)\n",
        "print(y_test)"
      ],
      "metadata": {
        "colab": {
          "base_uri": "https://localhost:8080/"
        },
        "id": "2qW6Ctx2oTJd",
        "outputId": "a2cdfdb2-cd66-487c-acd3-d803e446e634"
      },
      "execution_count": null,
      "outputs": [
        {
          "output_type": "stream",
          "name": "stdout",
          "text": [
            "[0, 0, 0, 1, 1, 0, 0, 1, 0, 0]\n",
            "25    0\n",
            "22    0\n",
            "28    0\n",
            "4     0\n",
            "10    1\n",
            "31    0\n",
            "29    0\n",
            "11    1\n",
            "20    1\n",
            "32    0\n",
            "Name: name, dtype: int64\n"
          ]
        }
      ]
    },
    {
      "cell_type": "code",
      "source": [
        "from sklearn.metrics import  accuracy_score\n",
        "accuracy_score(y_test, predictions)"
      ],
      "metadata": {
        "colab": {
          "base_uri": "https://localhost:8080/"
        },
        "id": "CbslCp7msl44",
        "outputId": "e7383724-6a92-4e79-a527-68e058a0cc49"
      },
      "execution_count": null,
      "outputs": [
        {
          "output_type": "execute_result",
          "data": {
            "text/plain": [
              "0.8"
            ]
          },
          "metadata": {},
          "execution_count": 47
        }
      ]
    },
    {
      "cell_type": "code",
      "source": [
        "from tensorflow.keras.models import load_model\n",
        "model.save('tfmodel')"
      ],
      "metadata": {
        "colab": {
          "base_uri": "https://localhost:8080/"
        },
        "id": "871uGSHPs03U",
        "outputId": "b4a7c040-0f55-4e6b-fa73-2cce226d74de"
      },
      "execution_count": null,
      "outputs": [
        {
          "output_type": "stream",
          "name": "stderr",
          "text": [
            "WARNING:absl:Found untraced functions such as _update_step_xla while saving (showing 1 of 1). These functions will not be directly callable after loading.\n"
          ]
        }
      ]
    },
    {
      "cell_type": "code",
      "source": [
        "!zip -r /content/tfmodel.zip /content/tfmodel"
      ],
      "metadata": {
        "colab": {
          "base_uri": "https://localhost:8080/"
        },
        "id": "71n5_VjbtXRE",
        "outputId": "4612a519-f03f-4af0-e908-307552ed9cf3"
      },
      "execution_count": null,
      "outputs": [
        {
          "output_type": "stream",
          "name": "stdout",
          "text": [
            "  adding: content/tfmodel/ (stored 0%)\n",
            "  adding: content/tfmodel/assets/ (stored 0%)\n",
            "  adding: content/tfmodel/variables/ (stored 0%)\n",
            "  adding: content/tfmodel/variables/variables.data-00000-of-00001 (deflated 23%)\n",
            "  adding: content/tfmodel/variables/variables.index (deflated 61%)\n",
            "  adding: content/tfmodel/fingerprint.pb (stored 0%)\n",
            "  adding: content/tfmodel/saved_model.pb (deflated 88%)\n",
            "  adding: content/tfmodel/keras_metadata.pb (deflated 86%)\n"
          ]
        }
      ]
    }
  ]
}